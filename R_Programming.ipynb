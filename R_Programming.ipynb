{
  "nbformat": 4,
  "nbformat_minor": 0,
  "metadata": {
    "colab": {
      "provenance": [],
      "authorship_tag": "ABX9TyMzey3n4sJT3LsZ9enuECBB",
      "include_colab_link": true
    },
    "kernelspec": {
      "name": "python3",
      "display_name": "Python 3"
    },
    "language_info": {
      "name": "python"
    }
  },
  "cells": [
    {
      "cell_type": "markdown",
      "metadata": {
        "id": "view-in-github",
        "colab_type": "text"
      },
      "source": [
        "<a href=\"https://colab.research.google.com/github/Drishti-17/R_Programming/blob/main/R_Programming.ipynb\" target=\"_parent\"><img src=\"https://colab.research.google.com/assets/colab-badge.svg\" alt=\"Open In Colab\"/></a>"
      ]
    },
    {
      "cell_type": "markdown",
      "source": [
        "**Create a file that contains 1000 lines of random strings.**"
      ],
      "metadata": {
        "id": "XGce9mcvebsR"
      }
    },
    {
      "cell_type": "code",
      "execution_count": null,
      "metadata": {
        "id": "2-x-V5JceBpp"
      },
      "outputs": [],
      "source": [
        "# Install the required package\n",
        "if (!require(stringi)) {\n",
        "  install.packages(\"stringi\")\n",
        "}\n",
        "\n",
        "# Generate random strings\n",
        "generate_random_string <- function(n) {\n",
        "  charset <- c(letters, LETTERS, 0:9)\n",
        "  random_string <- paste(sample(charset, n, replace = TRUE), collapse = \"\")\n",
        "  return(random_string)\n",
        "}\n",
        "\n",
        "# Set the number of lines and file path\n",
        "num_lines <- 1000\n",
        "file_path <- \"/content/random_strings.txt\"\n",
        "\n",
        "# Generate random strings and write them to the file\n",
        "writeLines(sapply(1:num_lines, function(x) generate_random_string(10)), file_path)\n"
      ]
    },
    {
      "cell_type": "markdown",
      "source": [
        "**Create a random dataset of 100 rows and 30 columns. All the values are defined between [1,200].**\n",
        "\n",
        "Perform\n",
        "the following operations:\n",
        "\n",
        "\n",
        "(i) Replace all the values with NA in the dataset defined between [10, 60]. Print the count of number rows having missing values.\n",
        "\n",
        "\n",
        "(ii) Replace all the NA values with the average of the column value.\n",
        "\n",
        "\n",
        "(iii) Find the Pearson correlation among all the columns and plot heat map. Also select those columns having correlation <=0.7.\n",
        "\n",
        "\n",
        "(iv) Normalize all the values in the dataset between 0 and 10.\n",
        "\n",
        "\n",
        "(v) Replace all the values in the dataset with 1 if value <=0.5 else with 0"
      ],
      "metadata": {
        "id": "NVVyf7oKeekj"
      }
    },
    {
      "cell_type": "code",
      "source": [
        "# Install the required packages\n",
        "if (!require(tidyverse)) {\n",
        "  install.packages(\"tidyverse\")\n",
        "}\n",
        "if (!require(corrplot)) {\n",
        "  install.packages(\"corrplot\")\n",
        "}\n",
        "\n",
        "# Set the seed for reproducibility\n",
        "set.seed(123)\n",
        "\n",
        "# Generate random dataset\n",
        "dataset <- as.data.frame(matrix(sample(1:200, 100*30, replace = TRUE), nrow = 100))\n",
        "\n",
        "# (i) Replace values with NA between [10, 60] and count rows with missing values\n",
        "dataset[10:60, ] <- NA\n",
        "missing_rows <- sum(rowSums(is.na(dataset)) > 0)\n",
        "print(paste(\"Number of rows with missing values:\", missing_rows))\n",
        "\n",
        "# (ii) Replace NA values with column averages\n",
        "dataset <- apply(dataset, 2, function(x) replace(x, is.na(x), mean(x, na.rm = TRUE)))\n",
        "\n",
        "# (iii) Find Pearson correlation and plot heat map\n",
        "cor_matrix <- cor(dataset)\n",
        "corrplot(cor_matrix, method = \"color\")\n",
        "\n",
        "# Select columns with correlation <= 0.7\n",
        "low_corr_cols <- names(which(apply(cor_matrix, 2, function(x) any(abs(x) <= 0.7))))\n",
        "print(paste(\"Columns with correlation <= 0.7:\", paste(low_corr_cols, collapse = \", \")))\n",
        "\n",
        "# (iv) Normalize values between 0 and 10\n",
        "normalize <- function(x) {\n",
        "  min_val <- min(x, na.rm = TRUE)\n",
        "  max_val <- max(x, na.rm = TRUE)\n",
        "  normalized <- (x - min_val) / (max_val - min_val) * 10\n",
        "  return(normalized)\n",
        "}\n",
        "dataset <- apply(dataset, 2, normalize)\n",
        "\n",
        "# (v) Replace values with 1 if <= 0.5, else with 0\n",
        "dataset <- ifelse(dataset <= 0.5, 1, 0)\n"
      ],
      "metadata": {
        "id": "hg9GaTKVes44"
      },
      "execution_count": null,
      "outputs": []
    },
    {
      "cell_type": "markdown",
      "source": [
        "**Create a random dataset of 600 rows and 15 columns.**\n",
        "\n",
        "All the values are defined between [-100,100].\n",
        "\n",
        "\n",
        "Perform the following operations:\n",
        "\n",
        "\n",
        "(i) Plot scatter graph between Column 5 and Column 6.\n",
        "\n",
        "\n",
        "(ii) Plot histogram of each column in single graph.\n",
        "\n",
        "\n",
        "(iii) Plot the Box plot of each column in single graph."
      ],
      "metadata": {
        "id": "QUPHpSYge21h"
      }
    },
    {
      "cell_type": "code",
      "source": [
        "# Set the seed for reproducibility\n",
        "set.seed(123)\n",
        "\n",
        "# Generate random dataset\n",
        "dataset <- as.data.frame(matrix(runif(600*15, min = -100, max = 100), nrow = 600))\n",
        "\n",
        "# (i) Plot scatter graph between Column 5 and Column 6\n",
        "plot(dataset$V5, dataset$V6, xlab = \"Column 5\", ylab = \"Column 6\", main = \"Scatter Plot\")\n",
        "\n",
        "# (ii) Plot histogram of each column in a single graph\n",
        "par(mfrow = c(3, 5))\n",
        "for (i in 1:15) {\n",
        "  hist(dataset[, i], main = paste(\"Histogram of Column\", i), xlab = paste(\"Column\", i))\n",
        "}\n",
        "\n",
        "# (iii) Plot the Box plot of each column in a single graph\n",
        "par(mfrow = c(3, 5))\n",
        "for (i in 1:15) {\n",
        "  boxplot(dataset[, i], main = paste(\"Boxplot of Column\", i), xlab = paste(\"Column\", i))\n",
        "}\n"
      ],
      "metadata": {
        "id": "njZ9b5TtfUvQ"
      },
      "execution_count": 1,
      "outputs": []
    },
    {
      "cell_type": "markdown",
      "source": [
        "**Create a random dataset of 500 rows and 5 columns:**\n",
        "\n",
        "\n",
        "All the values are defined between [5,10].\n",
        "\n",
        "\n",
        "Perform the following operations:\n",
        "\n",
        "\n",
        "(i) Perform t-Test on each column.\n",
        "\n",
        "\n",
        "(ii) Perform Wilcoxon Signed Rank Test on each column.\n",
        "\n",
        "\n",
        "(iii) Perform Two Sample t-Test and Wilcoxon Rank Sum Test on Column 3 and Column 4"
      ],
      "metadata": {
        "id": "1DDf8SdWgI_9"
      }
    },
    {
      "cell_type": "code",
      "source": [
        "# Set the seed for reproducibility\n",
        "set.seed(123)\n",
        "\n",
        "# Generate random dataset\n",
        "dataset <- as.data.frame(matrix(runif(500*5, min = 5, max = 10), nrow = 500))\n",
        "\n",
        "# (i) Perform t-Test on each column\n",
        "t_test_results <- lapply(dataset, function(column) {\n",
        "  t.test(column)\n",
        "})\n",
        "\n",
        "# (ii) Perform Wilcoxon Signed Rank Test on each column\n",
        "wilcoxon_test_results <- lapply(dataset, function(column) {\n",
        "  wilcox.test(column)\n",
        "})\n",
        "\n",
        "# (iii) Perform Two Sample t-Test and Wilcoxon Rank Sum Test on Column 3 and Column 4\n",
        "column3 <- dataset$V3\n",
        "column4 <- dataset$V4\n",
        "\n",
        "two_sample_t_test <- t.test(column3, column4)\n",
        "wilcoxon_rank_sum_test <- wilcox.test(column3, column4)\n",
        "\n",
        "# Print the results\n",
        "print(\"T-Test Results:\")\n",
        "print(t_test_results)\n",
        "\n",
        "print(\"Wilcoxon Signed Rank Test Results:\")\n",
        "print(wilcoxon_test_results)\n",
        "\n",
        "print(\"Two Sample T-Test:\")\n",
        "print(two_sample_t_test)\n",
        "\n",
        "print(\"Wilcoxon Rank Sum Test:\")\n",
        "print(wilcoxon_rank_sum_test)\n"
      ],
      "metadata": {
        "id": "M-BH9YdLgS0t"
      },
      "execution_count": null,
      "outputs": []
    }
  ]
}